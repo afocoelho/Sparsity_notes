{
 "cells": [
  {
   "cell_type": "markdown",
   "metadata": {},
   "source": [
    "# High Dimensionality Filtering"
   ]
  },
  {
   "cell_type": "markdown",
   "metadata": {},
   "source": [
    "### Feature Selection\n",
    "\n",
    "As one of the steps before modeling, feature selection can help in a great extend to achieve good results. \n",
    "It can be a very effective step to:\n",
    "  - Reduce dimensionality\n",
    "  - Remove irrelevant data\n",
    "  - Increase models accuracy\n",
    "  - Improve the comprehensibility.\n",
    "  "
   ]
  },
  {
   "cell_type": "markdown",
   "metadata": {},
   "source": [
    "## Types of methods\n",
    "There are mainly three types of feature selection methods:\n",
    "  - Filtering methods -  which are executed based on statistics and developed metrics\n",
    "  - Wrapper methods - are done by trial and error. ( different subsets are used for training and evaluation and then compared) \n",
    "  - Embedded methods - the feature selection is done on the model itself (example: lasso regression)"
   ]
  },
  {
   "cell_type": "markdown",
   "metadata": {},
   "source": [
    "## High dimensionality\n",
    "High dimensionality data is often characterized by irrelevant features and redundancy(refer to Pattern Recognition Letters). The nature of high dimensionality data is ideal for an overfitting scenario.  \n",
    "\n",
    "When trying to do a good feature selections wrapper methods are usually prefered since they can be used to try all the possible scenarios.  \n",
    "\n",
    "Although, with high dimensionality data, using wrapper methods can be prohibitive due to the high computational cost.\n",
    "\n"
   ]
  },
  {
   "cell_type": "markdown",
   "metadata": {},
   "source": [
    "# Univariate measures\n",
    "# Dispersion mesaures\n",
    "Some well known dispersion measures"
   ]
  },
  {
   "cell_type": "markdown",
   "metadata": {},
   "source": [
    "## L0\n",
    "Count of zeros\n",
    "$$ l_0=\\# zeros $$"
   ]
  },
  {
   "cell_type": "markdown",
   "metadata": {},
   "source": [
    "### MAD - Mean Absolute Difference\n",
    "$$ MAD_i = \\frac{1}{n} \\sum_{j=1}^{n} | X_{ij} - \\overline{X}_i| $$"
   ]
  },
  {
   "cell_type": "markdown",
   "metadata": {},
   "source": [
    "Mean absolute difference give us the mean difference between the points and mean value.  "
   ]
  },
  {
   "cell_type": "markdown",
   "metadata": {},
   "source": [
    "### R"
   ]
  },
  {
   "cell_type": "markdown",
   "metadata": {},
   "source": [
    "Given arithmetic mean (AM) and geometric mean (GM) \n",
    "$$ AM_i = \\overline{X}_i = \\frac{1}{n} \\sum_{j=1}^iX_{ij}, \\space \\space \\space \\space \\space \\space GM_i = (\\prod_{j=1}^nX_{ij})^{\\frac{1}{n}}$$\n",
    "\n",
    "\n",
    "R is the ration betwen AM and geometric mean\n",
    "$$R_i= \\frac{AM_i}{GM_i} = \\frac{  \\frac{1}{n} \\sum_{j=1}^iX_{ij} } {(\\prod_{j=1}^nX_{ij})^{\\frac{1}{n}}}$$"
   ]
  },
  {
   "cell_type": "markdown",
   "metadata": {},
   "source": [
    "Higher dispersion implies a higher value of R, thus a more relevant feature. Although if there is one observation where the value is zero $GM_i$ is also zero making this metric useless in cases of sparsity.\n",
    "\n",
    "## $AMGM_i$\n",
    "To solve this \"A.J. Ferreira, M.A.T. Figueiredo /Pattern Recognition Letters 33 (2012) 1794–1804\" proposed $AMGM_i$ metric which applies the exponential function to each feature yielding"
   ]
  },
  {
   "cell_type": "markdown",
   "metadata": {},
   "source": [
    "$$AMGM_I = \\frac{  \\frac{1}{n} \\sum_{j=1}^i exp(X_{ij}) } {(\\prod_{j=1}^n  exp(X_{ij}))^{\\frac{1}{n}}}= \\frac{1}{n \\space exp( \\overline{X}_i)} \\sum_{j=1}^nexp(X_{ij})$$"
   ]
  },
  {
   "cell_type": "markdown",
   "metadata": {},
   "source": [
    "## $MM_i$\n",
    "\n",
    "$$MM_i = | \\overline{X}_i - median(X_i)|$$"
   ]
  },
  {
   "cell_type": "code",
   "execution_count": null,
   "metadata": {},
   "outputs": [],
   "source": []
  }
 ],
 "metadata": {
  "kernelspec": {
   "display_name": "Python 3",
   "language": "python",
   "name": "python3"
  },
  "language_info": {
   "codemirror_mode": {
    "name": "ipython",
    "version": 3
   },
   "file_extension": ".py",
   "mimetype": "text/x-python",
   "name": "python",
   "nbconvert_exporter": "python",
   "pygments_lexer": "ipython3",
   "version": "3.8.3"
  }
 },
 "nbformat": 4,
 "nbformat_minor": 4
}
